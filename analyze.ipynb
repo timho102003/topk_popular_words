{
 "cells": [
  {
   "cell_type": "code",
   "execution_count": 3,
   "metadata": {},
   "outputs": [],
   "source": [
    "import pandas as pd\n",
    "import matplotlib.pyplot as plt"
   ]
  },
  {
   "cell_type": "markdown",
   "metadata": {},
   "source": [
    "#"
   ]
  },
  {
   "attachments": {},
   "cell_type": "markdown",
   "metadata": {},
   "source": [
    "# W/O Multi-Processing Optimization (topK=10):"
   ]
  },
  {
   "attachments": {},
   "cell_type": "markdown",
   "metadata": {},
   "source": [
    "### Dataset: small_50MB_dataset.txt\n",
    "- Top 10 words: ['us', 'would', 'countries', 'world', 'one', 'china', 'new', 'economic', 'government', 'europe']\n",
    "-  Execution time: 3.913951873779297 seconds\n",
    "-  Memory used: 13.796875 MiB\n",
    "-  CPU usage: 1.8 %\n",
    "---\n",
    "### Dataset: small_50MB_dataset.txt\n",
    "- Top 10 words: ['european', 'mr', 'commission', 'would', 'also', 'president', 'must', 'union', 'parliament', 'states']\n",
    "- Execution time: 19.54705309867859 seconds\n",
    "- Memory used: 17.40625 MiB\n",
    "- CPU usage: 2.3 %\n",
    "---\n",
    "### Dataset: data_2.5GB.txt\n",
    "- Top 10 words: ['said', 'one', 'year', 'would', 'new', 'also', 'people', 'last', 'two', 'time']\n",
    "- Execution time: 176.3766417503357 seconds\n",
    "- Memory used: 168.125 MiB\n",
    "- CPU usage: 2.4 %\n",
    "--- \n",
    "### Dataset: data_16GB.txt\n",
    "- Top 10 words: ['said', 'one', 'year', 'would', 'new', 'also', 'people', 'two', 'last', 'first']\n",
    "- Execution time: 1102.08500289917 seconds\n",
    "- Memory used: 239.703125 MiB\n",
    "- CPU usage: 2.4 %"
   ]
  },
  {
   "cell_type": "code",
   "execution_count": 2,
   "metadata": {},
   "outputs": [
    {
     "data": {
      "text/html": [
       "<div>\n",
       "<style scoped>\n",
       "    .dataframe tbody tr th:only-of-type {\n",
       "        vertical-align: middle;\n",
       "    }\n",
       "\n",
       "    .dataframe tbody tr th {\n",
       "        vertical-align: top;\n",
       "    }\n",
       "\n",
       "    .dataframe thead th {\n",
       "        text-align: right;\n",
       "    }\n",
       "</style>\n",
       "<table border=\"1\" class=\"dataframe\">\n",
       "  <thead>\n",
       "    <tr style=\"text-align: right;\">\n",
       "      <th></th>\n",
       "      <th>ets</th>\n",
       "      <th>memory</th>\n",
       "      <th>cpu</th>\n",
       "    </tr>\n",
       "  </thead>\n",
       "  <tbody>\n",
       "    <tr>\n",
       "      <th>0</th>\n",
       "      <td>3.913952</td>\n",
       "      <td>13.796875</td>\n",
       "      <td>1.8</td>\n",
       "    </tr>\n",
       "    <tr>\n",
       "      <th>1</th>\n",
       "      <td>19.547053</td>\n",
       "      <td>17.406250</td>\n",
       "      <td>2.3</td>\n",
       "    </tr>\n",
       "    <tr>\n",
       "      <th>2</th>\n",
       "      <td>176.376642</td>\n",
       "      <td>168.125000</td>\n",
       "      <td>2.4</td>\n",
       "    </tr>\n",
       "    <tr>\n",
       "      <th>3</th>\n",
       "      <td>1102.085003</td>\n",
       "      <td>239.703125</td>\n",
       "      <td>2.4</td>\n",
       "    </tr>\n",
       "  </tbody>\n",
       "</table>\n",
       "</div>"
      ],
      "text/plain": [
       "           ets      memory  cpu\n",
       "0     3.913952   13.796875  1.8\n",
       "1    19.547053   17.406250  2.3\n",
       "2   176.376642  168.125000  2.4\n",
       "3  1102.085003  239.703125  2.4"
      ]
     },
     "execution_count": 2,
     "metadata": {},
     "output_type": "execute_result"
    }
   ],
   "source": [
    "df = pd.DataFrame(\n",
    "    {\n",
    "        \"ets\": [3.913951873779297, 19.54705309867859, 176.3766417503357, 1102.08500289917],\n",
    "        \"memory\": [13.796875, 17.40625, 168.125, 239.703125],\n",
    "        \"cpu\": [1.8, 2.3, 2.4, 2.4]\n",
    "    }\n",
    ")\n",
    "df"
   ]
  }
 ],
 "metadata": {
  "kernelspec": {
   "display_name": "base",
   "language": "python",
   "name": "python3"
  },
  "language_info": {
   "codemirror_mode": {
    "name": "ipython",
    "version": 3
   },
   "file_extension": ".py",
   "mimetype": "text/x-python",
   "name": "python",
   "nbconvert_exporter": "python",
   "pygments_lexer": "ipython3",
   "version": "3.9.16"
  },
  "orig_nbformat": 4
 },
 "nbformat": 4,
 "nbformat_minor": 2
}
